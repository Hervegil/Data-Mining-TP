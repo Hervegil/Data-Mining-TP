{
 "cells": [
  {
   "cell_type": "markdown",
   "metadata": {},
   "source": [
    "\n",
    "\n",
    "## <center> Python/Numpy Introduction (Not graded)\n",
    " <center> Tuesday 02 March 2021\n",
    "\n",
    " <center> Frantzeska.Lavda@etu.unige.ch"
   ]
  },
  {
   "cell_type": "markdown",
   "metadata": {},
   "source": [
    "## Hervégil Voegeli"
   ]
  },
  {
   "cell_type": "code",
   "execution_count": 4,
   "metadata": {},
   "outputs": [
    {
     "name": "stdout",
     "output_type": "stream",
     "text": [
      "<class 'list'>\n",
      "list1:  [0, 1, 2, 3, 4]\n",
      "<class 'numpy.ndarray'>\n",
      "arr1d:  [0 1 2 3 4]\n"
     ]
    }
   ],
   "source": [
    "# Create an 1d array from a list\n",
    "import numpy as np\n",
    "list1 = [0,1,2,3,4]\n",
    "print(type(list1))\n",
    "print('list1: ', list1)\n",
    "arr1d = np.array(list1)\n",
    "\n",
    "# Print the array and its type\n",
    "print(type(arr1d))\n",
    "print('arr1d: ', arr1d)"
   ]
  },
  {
   "cell_type": "markdown",
   "metadata": {},
   "source": [
    "### Keep in mind: arrays are designed to handle vectorized operations while a python list is not!"
   ]
  },
  {
   "cell_type": "code",
   "execution_count": 12,
   "metadata": {},
   "outputs": [
    {
     "ename": "TypeError",
     "evalue": "can only concatenate list (not \"int\") to list",
     "output_type": "error",
     "traceback": [
      "\u001b[1;31m---------------------------------------------------------------------------\u001b[0m",
      "\u001b[1;31mTypeError\u001b[0m                                 Traceback (most recent call last)",
      "\u001b[1;32m<ipython-input-12-cfe3e47a7cef>\u001b[0m in \u001b[0;36m<module>\u001b[1;34m\u001b[0m\n\u001b[0;32m      1\u001b[0m \u001b[1;31m# Add 2 to each element of list1. What do you observe?\u001b[0m\u001b[1;33m\u001b[0m\u001b[1;33m\u001b[0m\u001b[0m\n\u001b[1;32m----> 2\u001b[1;33m \u001b[0mlist1\u001b[0m \u001b[1;33m+\u001b[0m \u001b[1;36m2\u001b[0m\u001b[1;33m\u001b[0m\u001b[0m\n\u001b[0m\u001b[0;32m      3\u001b[0m \u001b[1;33m\u001b[0m\u001b[0m\n\u001b[0;32m      4\u001b[0m \u001b[1;31m#It does not work, those a not integral type numbers.\u001b[0m\u001b[1;33m\u001b[0m\u001b[1;33m\u001b[0m\u001b[0m\n",
      "\u001b[1;31mTypeError\u001b[0m: can only concatenate list (not \"int\") to list"
     ]
    }
   ],
   "source": [
    "# Add 2 to each element of list1. What do you observe?\n",
    "list1 + 2\n",
    "\n",
    "#It does not work, those a not integral type numbers."
   ]
  },
  {
   "cell_type": "code",
   "execution_count": null,
   "metadata": {},
   "outputs": [],
   "source": [
    "#Now Add 2 to each element of arr1d.\n",
    "arr1d + 2"
   ]
  },
  {
   "cell_type": "code",
   "execution_count": 14,
   "metadata": {},
   "outputs": [
    {
     "name": "stdout",
     "output_type": "stream",
     "text": [
      "[[0 1 2]\n",
      " [3 4 5]\n",
      " [6 7 8]]\n",
      "<class 'numpy.ndarray'>\n"
     ]
    }
   ],
   "source": [
    "# Create a 2d array from a list of lists \n",
    "list2 = [[0,1,2], [3,4,5], [6,7,8]]\n",
    "arr2d = np.array(list2)\n",
    "print(arr2d)\n",
    "\n",
    "# Print its type\n",
    "print(type(arr2d))"
   ]
  },
  {
   "cell_type": "code",
   "execution_count": 20,
   "metadata": {},
   "outputs": [
    {
     "data": {
      "text/plain": [
       "array([[0., 1., 2.],\n",
       "       [3., 4., 5.],\n",
       "       [6., 7., 8.]])"
      ]
     },
     "execution_count": 20,
     "metadata": {},
     "output_type": "execute_result"
    }
   ],
   "source": [
    "# Create a float, int, bool, str, object 2d array\n",
    "arr2d_f = np.array(list2, dtype='float')\n",
    "arr2d_f"
   ]
  },
  {
   "cell_type": "code",
   "execution_count": 21,
   "metadata": {},
   "outputs": [
    {
     "data": {
      "text/plain": [
       "array([[0, 1, 2],\n",
       "       [3, 4, 5],\n",
       "       [6, 7, 8]])"
      ]
     },
     "execution_count": 21,
     "metadata": {},
     "output_type": "execute_result"
    }
   ],
   "source": [
    "# You can also convert an array to a different datatype using the astype method\n",
    "# Convert arr2d_f to int\n",
    "arr2d_f.astype('int')"
   ]
  },
  {
   "cell_type": "markdown",
   "metadata": {},
   "source": [
    "### Keep in mind: A numpy array must have all items to be of the same data type, unlike lists!"
   ]
  },
  {
   "cell_type": "code",
   "execution_count": 23,
   "metadata": {},
   "outputs": [
    {
     "name": "stdout",
     "output_type": "stream",
     "text": [
      "Shape:  (3, 3)\n",
      "Size:  9\n",
      "Dimension:  2\n",
      "Type:  float64\n"
     ]
    }
   ],
   "source": [
    "# Shape, size, dimention, type\n",
    "print('Shape: ', arr2d_f.shape)\n",
    "print('Size: ', arr2d_f.size)\n",
    "print('Dimension: ', arr2d_f.ndim)\n",
    "print('Type: ', arr2d_f.dtype)\n"
   ]
  },
  {
   "cell_type": "code",
   "execution_count": 24,
   "metadata": {},
   "outputs": [
    {
     "name": "stdout",
     "output_type": "stream",
     "text": [
      "[[[ 1  2]\n",
      "  [ 3  4]]\n",
      "\n",
      " [[ 5  6]\n",
      "  [ 7  8]]\n",
      "\n",
      " [[ 9 10]\n",
      "  [11 12]]]\n",
      "int32\n",
      "<class 'numpy.ndarray'>\n"
     ]
    }
   ],
   "source": [
    "# Create an 3d-dimensional NumPy array from nested Python lists.\n",
    "list2 = [ [[1,2],[3,4]] , [[5,6],[7,8]] , [[9,10],[11,12]] ]\n",
    "arr3d = np.array(list2)\n",
    "print(arr3d)\n",
    "print(arr3d.dtype)\n",
    "print((type(arr3d)))"
   ]
  },
  {
   "cell_type": "markdown",
   "metadata": {},
   "source": [
    "### Creating arrays\n",
    "\n",
    "#### There are several NumPy functions for creating arrays:\n",
    "\n",
    "\n",
    "<font color='blue'>numpy.array(a)</font>\n",
    "\t\n",
    "    Create n-dimensional NumPy array from sequence a\n",
    "\n",
    "<font color='blue'>numpy.linspace(a,b,N)</font> \n",
    "    \n",
    "    Create 1D NumPy array with N equally spaced values from a to b (inclusively)\n",
    "\n",
    "<font color='blue'>numpy.arange(a,b,step)</font>\n",
    "\n",
    "\tCreate 1D NumPy array with values from a to b (exclusively) incremented by step\n",
    "\n",
    "<font color='blue'>numpy.zeros(N)</font>\n",
    "\n",
    "\tCreate 1D NumPy array of zeros of length N\n",
    "\n",
    "<font color='blue'>numpy.zeros((n,m))</font>\n",
    "\n",
    "\tCreate 2D NumPy array of zeros with n rows and  m columns\n",
    "\n",
    "<font color='blue'>numpy.ones(N)</font>\n",
    "\n",
    "\tCreate 1D NumPy array of ones of length N\n",
    "\n",
    "<font color='blue'>numpy.ones((n,m))</font>\n",
    "\n",
    "\tCreate 2D NumPy array of ones with n rows and m columns\n",
    "\n",
    "<font color='blue'>numpy.eye(N)</font>\n",
    "\n",
    "\tCreate 2D NumPy array with  rows and  columns with ones on the diagonal (ie. the identity matrix of size N)"
   ]
  },
  {
   "cell_type": "code",
   "execution_count": 27,
   "metadata": {},
   "outputs": [
    {
     "name": "stdout",
     "output_type": "stream",
     "text": [
      "[0.  0.1 0.2 0.3 0.4 0.5 0.6 0.7 0.8 0.9 1. ]\n",
      "[0.  0.1 0.2 0.3 0.4 0.5 0.6 0.7 0.8 0.9]\n"
     ]
    }
   ],
   "source": [
    "# Create a 1D NumPy array with 11 equally spaced values from 0 to 1:\n",
    "\n",
    "x = np.linspace(0,1,11)\n",
    "print(x)\n",
    "      \n",
    "# Create a 1D NumPy array with values from 0 to 1 (exclusively) incremented by 0.1:\n",
    "y = np.arange(0,1,0.1)\n",
    "print(y)\n",
    "      "
   ]
  },
  {
   "cell_type": "code",
   "execution_count": 28,
   "metadata": {},
   "outputs": [
    {
     "name": "stdout",
     "output_type": "stream",
     "text": [
      "[0 1 2 3 4]\n",
      "[0 1 2 3 4 5 6 7 8 9]\n",
      "[0 2 4 6 8]\n",
      "[10  9  8  7  6  5  4  3  2  1]\n"
     ]
    },
    {
     "data": {
      "text/plain": [
       "array([ 1,  6, 11, 17, 22, 28, 33, 39, 44, 50])"
      ]
     },
     "execution_count": 28,
     "metadata": {},
     "output_type": "execute_result"
    }
   ],
   "source": [
    "# Lower limit is 0 be default\n",
    "print(np.arange(5))  \n",
    "\n",
    "# 0 to 9\n",
    "print(np.arange(0, 10))  \n",
    "\n",
    "# 0 to 9 with step of 2\n",
    "print(np.arange(0, 10, 2))  \n",
    "\n",
    "# 10 to 1, decreasing order\n",
    "print(np.arange(10, 0, -1))\n",
    "\n",
    "# Start at 1 and end at 50\n",
    "np.linspace(start=1, stop=50, num=10, dtype=int)\n"
   ]
  },
  {
   "cell_type": "code",
   "execution_count": 29,
   "metadata": {},
   "outputs": [
    {
     "name": "stdout",
     "output_type": "stream",
     "text": [
      "[[0. 0. 0. 0. 0.]\n",
      " [0. 0. 0. 0. 0.]]\n",
      "[[1. 0. 0. 0. 0. 0. 0. 0. 0. 0.]\n",
      " [0. 1. 0. 0. 0. 0. 0. 0. 0. 0.]\n",
      " [0. 0. 1. 0. 0. 0. 0. 0. 0. 0.]\n",
      " [0. 0. 0. 1. 0. 0. 0. 0. 0. 0.]\n",
      " [0. 0. 0. 0. 1. 0. 0. 0. 0. 0.]\n",
      " [0. 0. 0. 0. 0. 1. 0. 0. 0. 0.]\n",
      " [0. 0. 0. 0. 0. 0. 1. 0. 0. 0.]\n",
      " [0. 0. 0. 0. 0. 0. 0. 1. 0. 0.]\n",
      " [0. 0. 0. 0. 0. 0. 0. 0. 1. 0.]\n",
      " [0. 0. 0. 0. 0. 0. 0. 0. 0. 1.]]\n"
     ]
    }
   ],
   "source": [
    "# Create a 2D NumPy array of zeros with 2 rows and 5 columns:\n",
    "zeros = np.zeros((2,5))\n",
    "print(zeros)\n",
    "\n",
    "# Create the identity matrix of size 10:\n",
    "I = np.eye(10)\n",
    "print(I)\n",
    "\n"
   ]
  },
  {
   "cell_type": "markdown",
   "metadata": {},
   "source": [
    "### Get  unique items and the counts"
   ]
  },
  {
   "cell_type": "code",
   "execution_count": 30,
   "metadata": {},
   "outputs": [
    {
     "name": "stdout",
     "output_type": "stream",
     "text": [
      "[8 8 3 7 7 0 4 2 5 2]\n"
     ]
    }
   ],
   "source": [
    "# Create random integers of size 10 between [0,10)\n",
    "np.random.seed(100)\n",
    "arr_rand = np.random.randint(0, 10, size=10)\n",
    "print(arr_rand)\n"
   ]
  },
  {
   "cell_type": "code",
   "execution_count": 31,
   "metadata": {},
   "outputs": [
    {
     "name": "stdout",
     "output_type": "stream",
     "text": [
      "Unique items :  [0 2 3 4 5 7 8]\n",
      "Counts       :  [1 2 1 1 1 2 2]\n"
     ]
    }
   ],
   "source": [
    "# Get the unique items and their counts\n",
    "uniqs, counts = np.unique(arr_rand, return_counts=True)\n",
    "print(\"Unique items : \", uniqs)\n",
    "print(\"Counts       : \", counts)"
   ]
  },
  {
   "cell_type": "markdown",
   "metadata": {},
   "source": [
    "### Extract specific items from an array"
   ]
  },
  {
   "cell_type": "code",
   "execution_count": 32,
   "metadata": {},
   "outputs": [
    {
     "name": "stdout",
     "output_type": "stream",
     "text": [
      "[[0.21010774 0.4527399  0.87014264 0.06368104]\n",
      " [0.62431189 0.52334774 0.56229626 0.00581719]]\n"
     ]
    }
   ],
   "source": [
    "# Create a 2 x 4 2D NumPy array of random samples:\n",
    "rand2d = np.random.rand(2,4)\n",
    "print(rand2d)"
   ]
  },
  {
   "cell_type": "code",
   "execution_count": 33,
   "metadata": {},
   "outputs": [
    {
     "data": {
      "text/plain": [
       "0.5622962646810479"
      ]
     },
     "execution_count": 33,
     "metadata": {},
     "output_type": "execute_result"
    }
   ],
   "source": [
    "# Access the entry at 2nd row and 3rd column \n",
    "rand2d[1,2]"
   ]
  },
  {
   "cell_type": "code",
   "execution_count": 34,
   "metadata": {},
   "outputs": [
    {
     "data": {
      "text/plain": [
       "0.21010774244258368"
      ]
     },
     "execution_count": 34,
     "metadata": {},
     "output_type": "execute_result"
    }
   ],
   "source": [
    "# Access the 1st elemrn (top left entry)\n",
    "rand2d[0,0]"
   ]
  },
  {
   "cell_type": "code",
   "execution_count": 35,
   "metadata": {},
   "outputs": [
    {
     "data": {
      "text/plain": [
       "0.005817191449534076"
      ]
     },
     "execution_count": 35,
     "metadata": {},
     "output_type": "execute_result"
    }
   ],
   "source": [
    "# Access the last element (bottom right entry) in the array\n",
    "rand2d[-1,-1]"
   ]
  },
  {
   "cell_type": "code",
   "execution_count": 36,
   "metadata": {},
   "outputs": [
    {
     "name": "stdout",
     "output_type": "stream",
     "text": [
      "[0.62431189 0.52334774 0.56229626 0.00581719]\n",
      "[0.62431189 0.52334774 0.56229626 0.00581719]\n"
     ]
    }
   ],
   "source": [
    "# Access the last row \n",
    "print(rand2d[1,:])\n",
    "print(rand2d[-1,:])"
   ]
  },
  {
   "cell_type": "code",
   "execution_count": 37,
   "metadata": {},
   "outputs": [
    {
     "name": "stdout",
     "output_type": "stream",
     "text": [
      "[0.87014264 0.56229626]\n",
      "[0.87014264 0.56229626]\n"
     ]
    }
   ],
   "source": [
    "# Access the 3rd column \n",
    "print(rand2d[:,2])\n",
    "print(rand2d[:,-2])"
   ]
  },
  {
   "cell_type": "code",
   "execution_count": 38,
   "metadata": {},
   "outputs": [
    {
     "data": {
      "text/plain": [
       "array([[0.4527399 , 0.87014264],\n",
       "       [0.52334774, 0.56229626]])"
      ]
     },
     "execution_count": 38,
     "metadata": {},
     "output_type": "execute_result"
    }
   ],
   "source": [
    "# Select the subarray of the 2 rows , and 2nd and 3rd columns \n",
    "sub_rand2d = rand2d[:,1:3 ]\n",
    "sub_rand2d"
   ]
  },
  {
   "cell_type": "code",
   "execution_count": 39,
   "metadata": {},
   "outputs": [
    {
     "name": "stdout",
     "output_type": "stream",
     "text": [
      "[[0.21010774 0.4527399  0.87014264 0.06368104]\n",
      " [0.62431189 0.52334774 0.56229626 0.00581719]]\n",
      "rand2d shape:  (2, 4)\n",
      "[[0.21010774 0.4527399 ]\n",
      " [0.87014264 0.06368104]\n",
      " [0.62431189 0.52334774]\n",
      " [0.56229626 0.00581719]]\n",
      "rand2d_b shape:  (4, 2)\n"
     ]
    }
   ],
   "source": [
    "# reshape rand2d from 2 x 4 to 4 x 2\n",
    "print(rand2d)\n",
    "print('rand2d shape: ',rand2d.shape)\n",
    "\n",
    "rand2d_b = rand2d.reshape(4, 2)\n",
    "print(rand2d_b)\n",
    "print('rand2d_b shape: ',rand2d_b.shape)\n",
    "\n"
   ]
  },
  {
   "cell_type": "markdown",
   "metadata": {},
   "source": [
    "### Compute mean, var, min, max, sum"
   ]
  },
  {
   "cell_type": "code",
   "execution_count": null,
   "metadata": {},
   "outputs": [],
   "source": [
    "# ToDO compute the mean, minimum and maximum value of rand2d using for loop"
   ]
  },
  {
   "cell_type": "code",
   "execution_count": 40,
   "metadata": {},
   "outputs": [
    {
     "name": "stdout",
     "output_type": "stream",
     "text": [
      "Mean value is:  0.41405555154344\n",
      "Max value is:  0.8701426355175177\n",
      "Min value is:  0.005817191449534076\n",
      "Var value is:  0.07733191132181148\n"
     ]
    }
   ],
   "source": [
    "#using numpy\n",
    "# mean, max and min \n",
    "print(\"Mean value is: \", np.mean(rand2d))\n",
    "print(\"Max value is: \", np.max(rand2d))\n",
    "print(\"Min value is: \", np.min(rand2d))\n",
    "print(\"Var value is: \", np.var(rand2d))\n",
    "\n",
    "\n"
   ]
  },
  {
   "cell_type": "code",
   "execution_count": 41,
   "metadata": {},
   "outputs": [
    {
     "name": "stdout",
     "output_type": "stream",
     "text": [
      "Column wise Mean:  [0.41720982 0.48804382 0.71621945 0.03474912]\n",
      "Row wise Mean:  [0.39916783 0.42894327]\n"
     ]
    }
   ],
   "source": [
    "# Row wise and column wise mean\n",
    "print(\"Column wise Mean: \", np.mean(rand2d, axis = 0))\n",
    "print(\"Row wise Mean: \", np.mean(rand2d, axis = 1))\n"
   ]
  },
  {
   "cell_type": "code",
   "execution_count": 42,
   "metadata": {},
   "outputs": [
    {
     "name": "stdout",
     "output_type": "stream",
     "text": [
      "Column wise minimum:  [0.21010774 0.4527399  0.56229626 0.00581719]\n",
      "Row wise minimum:  [0.06368104 0.00581719]\n"
     ]
    }
   ],
   "source": [
    "# Row wise and column wise min\n",
    "print(\"Column wise minimum: \", np.amin(rand2d, axis=0))\n",
    "print(\"Row wise minimum: \", np.amin(rand2d, axis=1))"
   ]
  },
  {
   "cell_type": "code",
   "execution_count": 43,
   "metadata": {},
   "outputs": [
    {
     "name": "stdout",
     "output_type": "stream",
     "text": [
      "[0.83441963 0.97608765 1.4324389  0.06949823]\n",
      "[1.59667132 1.71577309]\n"
     ]
    }
   ],
   "source": [
    "# Sum of the columns\n",
    "print(np.sum(rand2d, axis=0))\n",
    "# Sum of the rows\n",
    "print(np.sum(rand2d, axis=1))"
   ]
  },
  {
   "cell_type": "markdown",
   "metadata": {},
   "source": [
    "### Basic Operations\n"
   ]
  },
  {
   "cell_type": "code",
   "execution_count": 45,
   "metadata": {},
   "outputs": [
    {
     "name": "stdout",
     "output_type": "stream",
     "text": [
      "a:  [20 30 40 50]\n",
      "b:  [0 1 2 3]\n",
      "a - b:  [20 29 38 47]\n",
      "a + b:  [20 29 38 47]\n",
      "b square:  [0 1 4 9]\n",
      "a<35:  [ True  True False False]\n"
     ]
    }
   ],
   "source": [
    "# 1d array\n",
    "\n",
    "a = np.array( [20,30,40,50] )\n",
    "b = np.arange( 4 )\n",
    "c = a-b\n",
    "print('a: ',a)\n",
    "print('b: ',b)\n",
    "\n",
    "print('a - b: ', c)\n",
    "d = a-b\n",
    "print('a + b: ', d)\n",
    "b_sq = b**2\n",
    "print('b square: ', b_sq)\n",
    "print('a<35: ', a<35)\n",
    "\n",
    "\n",
    "\n",
    "\n"
   ]
  },
  {
   "cell_type": "code",
   "execution_count": 46,
   "metadata": {},
   "outputs": [
    {
     "name": "stdout",
     "output_type": "stream",
     "text": [
      "elementwise product: [[2 0]\n",
      " [0 4]]\n",
      "matrix product1: [[5 4]\n",
      " [3 4]]\n",
      "matrix product2: [[5 4]\n",
      " [3 4]]\n"
     ]
    }
   ],
   "source": [
    "# 2d array\n",
    "A = np.array( [[1,1], [0,1]] )\n",
    "B = np.array( [[2,0], [3,4]] )\n",
    "# elementwise product\n",
    "print('elementwise product:', A * B )\n",
    "# matrix product1\n",
    "print('matrix product1:', A @ B)\n",
    "# matrix product2\n",
    "print('matrix product2:', A.dot(B))"
   ]
  },
  {
   "cell_type": "markdown",
   "metadata": {},
   "source": [
    "### While, for loop, list comprehension, function .."
   ]
  },
  {
   "cell_type": "markdown",
   "metadata": {},
   "source": [
    "Define a sequence of numbers,\n",
    "\n",
    "$$x_n=n^2+1$$\n",
    "\n",
    "for integers $n=0,1,2,…,N$. \n",
    "* prints out $x_n$ for $n=0,1,…,20$ using a while loop.\n",
    "* store all the $x_n$ values computed above using a while loop in a list (using a while loop). Print the entire list (as one object)\n",
    "* repeat using for loop\n",
    "* make the code shorter using a list comprehension\n",
    "* Write a function called compute_x, which takes as input $n$, for computing an element in the sequence $x_n=n^2+1$. Call the function for $n=4$ and write out the result.\n",
    "\n"
   ]
  },
  {
   "cell_type": "code",
   "execution_count": 47,
   "metadata": {},
   "outputs": [
    {
     "name": "stdout",
     "output_type": "stream",
     "text": [
      "1\n",
      "2\n",
      "5\n",
      "10\n",
      "17\n",
      "26\n",
      "37\n",
      "50\n",
      "65\n",
      "82\n",
      "101\n",
      "122\n",
      "145\n",
      "170\n",
      "197\n",
      "226\n",
      "257\n",
      "290\n",
      "325\n",
      "362\n",
      "401\n"
     ]
    }
   ],
   "source": [
    "# prints out $x_n$ for $n=0,1,…,20$ using a while loop.\n",
    "\n",
    "n = 0\n",
    "while n <= 20:\n",
    "    x_n = n**2 + 1\n",
    "    print(x_n)\n",
    "    n = n + 1"
   ]
  },
  {
   "cell_type": "code",
   "execution_count": 48,
   "metadata": {},
   "outputs": [
    {
     "name": "stdout",
     "output_type": "stream",
     "text": [
      "[1, 2, 5, 10, 17, 26, 37, 50, 65, 82, 101, 122, 145, 170, 197, 226, 257, 290, 325, 362, 401]\n"
     ]
    }
   ],
   "source": [
    "# store all the $x_n$ values computed above using a while loop in a list (using a while loop). Print the entire list (as one object)\n",
    "n = 0\n",
    "x = []  # the x_n values\n",
    "while n <= 20:\n",
    "    x.append(n**2 + 1)\n",
    "    n = n + 1\n",
    "print(x)"
   ]
  },
  {
   "cell_type": "code",
   "execution_count": 49,
   "metadata": {},
   "outputs": [
    {
     "name": "stdout",
     "output_type": "stream",
     "text": [
      "[1, 2, 5, 10, 17, 26, 37, 50, 65, 82, 101, 122, 145, 170, 197, 226, 257, 290, 325, 362, 401]\n"
     ]
    }
   ],
   "source": [
    "# repeat using for loop\n",
    "x = []\n",
    "for n in range(21):\n",
    "    x.append(n**2 + 1)\n",
    "print(x)"
   ]
  },
  {
   "cell_type": "code",
   "execution_count": 55,
   "metadata": {},
   "outputs": [
    {
     "name": "stdout",
     "output_type": "stream",
     "text": [
      "[1, 2, 5, 10, 17, 26, 37, 50, 65, 82, 101, 122, 145, 170, 197, 226, 257, 290, 325, 362, 401]\n"
     ]
    }
   ],
   "source": [
    "# make the code shorter using a list comprehension\n",
    "x = [n**2 + 1 for n in range(21)]\n",
    "print(x)"
   ]
  },
  {
   "cell_type": "code",
   "execution_count": null,
   "metadata": {},
   "outputs": [],
   "source": [
    "# Write  function\n",
    "def compute_x(n):\n",
    "    return n**2 + 1\n",
    "\n",
    "print(compute_x(3))"
   ]
  },
  {
   "cell_type": "markdown",
   "metadata": {},
   "source": [
    "###  Vectorization\n",
    "\n",
    "#### Vectorization is a powerful ability within NumPy to express operations as occurring on entire arrays rather than their individual elements.\n",
    "\n",
    "#### Count the number of even and odd numbers from a series of numbers using for loop.\n"
   ]
  },
  {
   "cell_type": "code",
   "execution_count": 59,
   "metadata": {},
   "outputs": [
    {
     "name": "stdout",
     "output_type": "stream",
     "text": [
      "Number of even numbers : 4\n",
      "Number of odd numbers : 5\n"
     ]
    }
   ],
   "source": [
    "numbers = (1, 2, 3, 4, 5, 6, 7, 8, 9) # Declaring the tuple\n",
    "count_odd = 0\n",
    "count_even = 0\n",
    "for x in numbers:\n",
    "    if not x % 2:\n",
    "        count_even+=1\n",
    "    else:\n",
    "        count_odd+=1\n",
    "print(\"Number of even numbers :\",count_even)\n",
    "print(\"Number of odd numbers :\",count_odd)"
   ]
  },
  {
   "cell_type": "code",
   "execution_count": 60,
   "metadata": {},
   "outputs": [
    {
     "name": "stdout",
     "output_type": "stream",
     "text": [
      "Total evens:  4\n",
      "Total odds:  5\n"
     ]
    }
   ],
   "source": [
    "# compact syntax\n",
    "print(\"Total evens: \",len([i for i in numbers if(i%2==0)]))\n",
    "print(\"Total odds: \",len([i for i in numbers if(i%2!=0)]))\n",
    "\n"
   ]
  },
  {
   "cell_type": "markdown",
   "metadata": {},
   "source": [
    "#### Find the index of 5th repetition of number 1 in x using\n",
    " * for loop\n",
    " * without for loop using np.where"
   ]
  },
  {
   "cell_type": "code",
   "execution_count": 68,
   "metadata": {},
   "outputs": [
    {
     "name": "stdout",
     "output_type": "stream",
     "text": [
      "Sol 1:  8\n",
      "Sol 2: 8\n",
      "Sol 3:  8\n"
     ]
    }
   ],
   "source": [
    "x = np.array([1, 2, 1, 1, 3, 4, 3, 1, 1, 2, 1, 1, 2])\n",
    "n = 5\n",
    "\n",
    "# Solution 1: for loop \n",
    "#[i for i, v in enumerate(x) if v == 1][n-1]\n",
    "#print('solution 1:', x)\n",
    "count = 0\n",
    "for i, v in enumerate(x):\n",
    "    if v == 1:\n",
    "        count+=1\n",
    "        if count == 5:\n",
    "            print('Sol 1: ', i)\n",
    "            \n",
    "# Solution 2: for loop List comprehension\n",
    "print('Sol 2:', [i for i, v in enumerate(x) if v == 1][n-1])\n",
    "\n",
    "# Solution 3: Numpy version\n",
    "print('Sol 3: ', np.where(x == 1)[0][n-1])\n"
   ]
  },
  {
   "cell_type": "markdown",
   "metadata": {},
   "source": [
    "### Measure the efficiency of vectorization\n",
    "\n",
    "Measure the CPU time required by computing sin(x), where x is an array of 1M elements, using scalar computing with a loop (function sin_func) and vectorized computing using the sin function from numpy."
   ]
  },
  {
   "cell_type": "code",
   "execution_count": 69,
   "metadata": {},
   "outputs": [],
   "source": [
    "import numpy as np\n",
    "n = 1000000\n",
    "x = np.linspace(0, 1, n+1)\n",
    "def sin_func(x):\n",
    "    r = np.zeros_like(x)  # result\n",
    "    for i in range(len(x)):\n",
    "        r[i] = np.sin(x[i])\n",
    "    return r\n",
    "\n"
   ]
  },
  {
   "cell_type": "code",
   "execution_count": 73,
   "metadata": {},
   "outputs": [
    {
     "name": "stdout",
     "output_type": "stream",
     "text": [
      "11.8 µs ± 76.8 ns per loop (mean ± std. dev. of 7 runs, 100000 loops each)\n"
     ]
    }
   ],
   "source": [
    "%timeit y = sin_func(x)"
   ]
  },
  {
   "cell_type": "code",
   "execution_count": 71,
   "metadata": {},
   "outputs": [
    {
     "name": "stdout",
     "output_type": "stream",
     "text": [
      "20.6 ms ± 128 µs per loop (mean ± std. dev. of 7 runs, 10 loops each)\n"
     ]
    }
   ],
   "source": [
    "%timeit y = np.sin(x)"
   ]
  },
  {
   "cell_type": "markdown",
   "metadata": {},
   "source": [
    "### Understanding np.where"
   ]
  },
  {
   "cell_type": "code",
   "execution_count": 74,
   "metadata": {},
   "outputs": [
    {
     "data": {
      "text/plain": [
       "array([[0., 1., 2.],\n",
       "       [3., 4., 5.],\n",
       "       [6., 7., 8.]])"
      ]
     },
     "execution_count": 74,
     "metadata": {},
     "output_type": "execute_result"
    }
   ],
   "source": [
    "x = np.arange(9.).reshape(3, 3)\n",
    "x\n",
    "                           "
   ]
  },
  {
   "cell_type": "code",
   "execution_count": 75,
   "metadata": {},
   "outputs": [
    {
     "data": {
      "text/plain": [
       "(array([2, 2, 2], dtype=int32), array([0, 1, 2], dtype=int32))"
      ]
     },
     "execution_count": 75,
     "metadata": {},
     "output_type": "execute_result"
    }
   ],
   "source": [
    "np.where( x > 5 )\n"
   ]
  },
  {
   "cell_type": "code",
   "execution_count": 76,
   "metadata": {},
   "outputs": [
    {
     "data": {
      "text/plain": [
       "array([4., 5., 6., 7., 8.])"
      ]
     },
     "execution_count": 76,
     "metadata": {},
     "output_type": "execute_result"
    }
   ],
   "source": [
    "x[np.where( x > 3.0 )] "
   ]
  },
  {
   "cell_type": "code",
   "execution_count": 77,
   "metadata": {},
   "outputs": [
    {
     "data": {
      "text/plain": [
       "array([[ 0.,  1.,  2.],\n",
       "       [ 3.,  4., -1.],\n",
       "       [-1., -1., -1.]])"
      ]
     },
     "execution_count": 77,
     "metadata": {},
     "output_type": "execute_result"
    }
   ],
   "source": [
    "np.where(x < 5, x, -1)  "
   ]
  },
  {
   "cell_type": "markdown",
   "metadata": {},
   "source": [
    "### Plot histograms"
   ]
  },
  {
   "cell_type": "code",
   "execution_count": 82,
   "metadata": {},
   "outputs": [
    {
     "data": {
      "image/png": "[encoded data removed]",
      "text/plain": [
       "<Figure size 432x288 with 1 Axes>"
      ]
     },
     "metadata": {
      "needs_background": "light"
     },
     "output_type": "display_data"
    }
   ],
   "source": [
    "import numpy as np\n",
    "import matplotlib.pyplot as plt\n",
    "\n",
    "mu, sigma = 100, 15\n",
    "x = mu + sigma*np.random.randn(10000)\n",
    "\n",
    "# the histogram of the data\n",
    "n, bins, patches = plt.hist(x, 50, facecolor='blue')\n",
    "\n",
    "plt.xlabel('x')\n",
    "\n",
    "plt.show()\n"
   ]
  },
  {
   "cell_type": "markdown",
   "metadata": {},
   "source": [
    "### Exercise 1\n",
    "The cosine function has the following infinite product representation\n",
    "\n",
    "$$\\cos x = \\prod_{k=1}^{\\infty}(1 - \\frac{4 x^2}{\\pi (2k -1)^2})$$\n",
    "\n",
    "Write a function called cos_product which takes input parameters x and returns the Nth partial product\n",
    "\n",
    "$$\\prod_{k=1}^{\\infty}(1 - \\frac{4 x^2}{\\pi (2k -1)^2})$$\n"
   ]
  },
  {
   "cell_type": "code",
   "execution_count": 1,
   "metadata": {},
   "outputs": [],
   "source": [
    "import math\n",
    "\n",
    "def cos_product(x,N):\n",
    "    #\"Compute the product \\\\prod_{k=1}^N (1 - 4x^2/(pi^2 (2k - 1)^2).\"\n",
    "    fixed = (4*x**2/(math.pi**2))\n",
    "    x = (1 - fixed/(2 - 1)**2)\n",
    "    for k in range(2,N):\n",
    "        x = x*(1 - fixed/(2*k - 1)**2)\n",
    "    return x"
   ]
  },
  {
   "cell_type": "markdown",
   "metadata": {},
   "source": [
    "Verify your function using values for which you know the result. For example, $\\cos(0) = 1$ , $\\cos(\\pi) = -1$ "
   ]
  },
  {
   "cell_type": "code",
   "execution_count": 2,
   "metadata": {},
   "outputs": [
    {
     "data": {
      "text/plain": [
       "1.0"
      ]
     },
     "execution_count": 2,
     "metadata": {},
     "output_type": "execute_result"
    }
   ],
   "source": [
    "cos_product(0,10)"
   ]
  },
  {
   "cell_type": "code",
   "execution_count": 5,
   "metadata": {},
   "outputs": [
    {
     "data": {
      "text/plain": [
       "-1.0010015022533814"
      ]
     },
     "execution_count": 5,
     "metadata": {},
     "output_type": "execute_result"
    }
   ],
   "source": [
    "cos_product(np.pi,1000)"
   ]
  },
  {
   "cell_type": "markdown",
   "metadata": {},
   "source": [
    "### Exercise 2\n",
    "Write a function called count_transitions_for which takes 1 inputx x, a 1-dimensional vector of True and False and count the number of “False to True” transitions in the sequence with a for loop and a function called count_transitions without a for loop."
   ]
  },
  {
   "cell_type": "code",
   "execution_count": 8,
   "metadata": {},
   "outputs": [
    {
     "data": {
      "text/plain": [
       "array([ True, False,  True, ...,  True, False,  True])"
      ]
     },
     "execution_count": 8,
     "metadata": {},
     "output_type": "execute_result"
    }
   ],
   "source": [
    "np.random.seed(444)\n",
    "vect1 = np.random.choice([False, True], size=100000)\n",
    "vect1"
   ]
  },
  {
   "cell_type": "code",
   "execution_count": 24,
   "metadata": {},
   "outputs": [],
   "source": [
    "def count_transitions_for(x):\n",
    "    count = 0\n",
    "    for i in range(len(x)-1):\n",
    "        if not x[i]:\n",
    "            if x[i+1]:\n",
    "                count += 1\n",
    "                \n",
    "    return count\n",
    "trial = np.array([True,False,True,False,True,False,False])"
   ]
  },
  {
   "cell_type": "code",
   "execution_count": 30,
   "metadata": {},
   "outputs": [
    {
     "data": {
      "text/plain": [
       "24984"
      ]
     },
     "execution_count": 30,
     "metadata": {},
     "output_type": "execute_result"
    }
   ],
   "source": [
    "count_transitions_for(vect1)"
   ]
  },
  {
   "cell_type": "code",
   "execution_count": 27,
   "metadata": {},
   "outputs": [],
   "source": [
    "def count_transitions(x):\n",
    "    #It was really tempting to use a while loop :-)\n",
    "    longueur= len(x)-1\n",
    "    x_moved = x[1:len(x)]\n",
    "    x_trunc = x[0:longueur]\n",
    "    \n",
    "    if x[0]:\n",
    "        if x[-1]:\n",
    "            count=(np.count_nonzero(x_trunc!=x_moved))/2\n",
    "        else:\n",
    "            count=(np.count_nonzero(x_trunc!=x_moved)-1)/2\n",
    "    else:\n",
    "        if x[-1]:\n",
    "            count=(np.count_nonzero(x_trunc!=x_moved)+1)/2\n",
    "        else:\n",
    "            count=(np.count_nonzero(x_trunc!=x_moved))/2\n",
    "    \n",
    "    return count\n"
   ]
  },
  {
   "cell_type": "code",
   "execution_count": 29,
   "metadata": {},
   "outputs": [
    {
     "data": {
      "text/plain": [
       "24984.0"
      ]
     },
     "execution_count": 29,
     "metadata": {},
     "output_type": "execute_result"
    }
   ],
   "source": [
    "count_transitions(vect1)"
   ]
  },
  {
   "cell_type": "code",
   "execution_count": 237,
   "metadata": {},
   "outputs": [
    {
     "data": {
      "text/plain": [
       "array([False, False,  True, ..., False,  True,  True])"
      ]
     },
     "execution_count": 237,
     "metadata": {},
     "output_type": "execute_result"
    }
   ],
   "source": []
  }
 ],
 "metadata": {
  "kernelspec": {
   "display_name": "Python 3",
   "language": "python",
   "name": "python3"
  },
  "language_info": {
   "codemirror_mode": {
    "name": "ipython",
    "version": 3
   },
   "file_extension": ".py",
   "mimetype": "text/x-python",
   "name": "python",
   "nbconvert_exporter": "python",
   "pygments_lexer": "ipython3",
   "version": "3.5.2"
  }
 },
 "nbformat": 4,
 "nbformat_minor": 2
}
